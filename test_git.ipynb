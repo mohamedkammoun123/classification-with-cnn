{
 "cells": [
  {
   "cell_type": "code",
   "execution_count": 1,
   "id": "db6bf830",
   "metadata": {},
   "outputs": [],
   "source": [
    "from sklearn.datasets import make_blobs"
   ]
  },
  {
   "cell_type": "code",
   "execution_count": 3,
   "id": "dfc9c043",
   "metadata": {},
   "outputs": [],
   "source": [
    "num_samples_total = 10000\n",
    "cluster_centers = [(5,5), (3,3)]\n",
    "num_classes = len(cluster_centers)\n",
    "X, classes = make_blobs(n_samples = num_samples_total, centers = cluster_centers, n_features = num_classes, center_box=(0, 1), cluster_std = 0.30)"
   ]
  },
  {
   "cell_type": "code",
   "execution_count": 6,
   "id": "78cbbbbb",
   "metadata": {},
   "outputs": [
    {
     "data": {
      "text/plain": [
       "array([[2.90808594, 2.92671949],\n",
       "       [4.7703702 , 5.07378595],\n",
       "       [2.87614484, 2.58884029],\n",
       "       ...,\n",
       "       [3.61994313, 2.93688986],\n",
       "       [3.59084475, 2.6375745 ],\n",
       "       [4.99893813, 5.30078935]])"
      ]
     },
     "execution_count": 6,
     "metadata": {},
     "output_type": "execute_result"
    }
   ],
   "source": [
    "X"
   ]
  },
  {
   "cell_type": "code",
   "execution_count": null,
   "id": "fccb617c",
   "metadata": {},
   "outputs": [],
   "source": []
  }
 ],
 "metadata": {
  "kernelspec": {
   "display_name": "Python 3",
   "language": "python",
   "name": "python3"
  },
  "language_info": {
   "codemirror_mode": {
    "name": "ipython",
    "version": 3
   },
   "file_extension": ".py",
   "mimetype": "text/x-python",
   "name": "python",
   "nbconvert_exporter": "python",
   "pygments_lexer": "ipython3",
   "version": "3.8.8"
  }
 },
 "nbformat": 4,
 "nbformat_minor": 5
}
